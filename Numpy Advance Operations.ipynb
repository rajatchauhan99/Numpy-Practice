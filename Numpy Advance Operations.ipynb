{
 "cells": [
  {
   "cell_type": "markdown",
   "id": "283b40dd",
   "metadata": {},
   "source": [
    "# Array Manipulation"
   ]
  },
  {
   "cell_type": "markdown",
   "id": "184b6e8b",
   "metadata": {},
   "source": [
    "# Array Manipulation - Changing Shape"
   ]
  },
  {
   "cell_type": "code",
   "execution_count": 1,
   "id": "85b7fbcd",
   "metadata": {},
   "outputs": [],
   "source": [
    "import numpy as np"
   ]
  },
  {
   "cell_type": "code",
   "execution_count": 2,
   "id": "1fcffa54",
   "metadata": {},
   "outputs": [],
   "source": [
    "a = np.arange(9)"
   ]
  },
  {
   "cell_type": "code",
   "execution_count": 4,
   "id": "8ecea1e3",
   "metadata": {},
   "outputs": [
    {
     "name": "stdout",
     "output_type": "stream",
     "text": [
      "[0 1 2 3 4 5 6 7 8]\n"
     ]
    }
   ],
   "source": [
    "print(a)"
   ]
  },
  {
   "cell_type": "code",
   "execution_count": 5,
   "id": "f9426917",
   "metadata": {},
   "outputs": [
    {
     "data": {
      "text/plain": [
       "array([0, 1, 2, 3, 4, 5, 6, 7, 8])"
      ]
     },
     "execution_count": 5,
     "metadata": {},
     "output_type": "execute_result"
    }
   ],
   "source": [
    "a"
   ]
  },
  {
   "cell_type": "markdown",
   "id": "96d03396",
   "metadata": {},
   "source": [
    "Let us do reshape of the 'a' array"
   ]
  },
  {
   "cell_type": "code",
   "execution_count": 6,
   "id": "041c321d",
   "metadata": {},
   "outputs": [
    {
     "data": {
      "text/plain": [
       "array([[0, 1, 2],\n",
       "       [3, 4, 5],\n",
       "       [6, 7, 8]])"
      ]
     },
     "execution_count": 6,
     "metadata": {},
     "output_type": "execute_result"
    }
   ],
   "source": [
    "b = a.reshape(3,3)\n",
    "b"
   ]
  },
  {
   "cell_type": "code",
   "execution_count": 7,
   "id": "74d0cdec",
   "metadata": {},
   "outputs": [
    {
     "data": {
      "text/plain": [
       "2"
      ]
     },
     "execution_count": 7,
     "metadata": {},
     "output_type": "execute_result"
    }
   ],
   "source": [
    "b.ndim"
   ]
  },
  {
   "cell_type": "code",
   "execution_count": 8,
   "id": "312a07f7",
   "metadata": {},
   "outputs": [
    {
     "data": {
      "text/plain": [
       "1"
      ]
     },
     "execution_count": 8,
     "metadata": {},
     "output_type": "execute_result"
    }
   ],
   "source": [
    "a.ndim"
   ]
  },
  {
   "cell_type": "code",
   "execution_count": 12,
   "id": "cc279ffe",
   "metadata": {},
   "outputs": [],
   "source": [
    "c = a.reshape(1,3,3)"
   ]
  },
  {
   "cell_type": "code",
   "execution_count": 13,
   "id": "69bad421",
   "metadata": {},
   "outputs": [
    {
     "data": {
      "text/plain": [
       "array([[[0, 1, 2],\n",
       "        [3, 4, 5],\n",
       "        [6, 7, 8]]])"
      ]
     },
     "execution_count": 13,
     "metadata": {},
     "output_type": "execute_result"
    }
   ],
   "source": [
    "c"
   ]
  },
  {
   "cell_type": "code",
   "execution_count": 14,
   "id": "b8533d40",
   "metadata": {},
   "outputs": [
    {
     "data": {
      "text/plain": [
       "3"
      ]
     },
     "execution_count": 14,
     "metadata": {},
     "output_type": "execute_result"
    }
   ],
   "source": [
    "c.ndim"
   ]
  },
  {
   "cell_type": "code",
   "execution_count": 15,
   "id": "a970964c",
   "metadata": {},
   "outputs": [
    {
     "name": "stdout",
     "output_type": "stream",
     "text": [
      "[[[0 1 2]\n",
      "  [3 4 5]\n",
      "  [6 7 8]]]\n"
     ]
    }
   ],
   "source": [
    "print(c)"
   ]
  },
  {
   "cell_type": "code",
   "execution_count": 16,
   "id": "938c8e7a",
   "metadata": {},
   "outputs": [
    {
     "data": {
      "text/plain": [
       "9"
      ]
     },
     "execution_count": 16,
     "metadata": {},
     "output_type": "execute_result"
    }
   ],
   "source": [
    "c.size"
   ]
  },
  {
   "cell_type": "code",
   "execution_count": 17,
   "id": "98ddc404",
   "metadata": {},
   "outputs": [
    {
     "data": {
      "text/plain": [
       "9"
      ]
     },
     "execution_count": 17,
     "metadata": {},
     "output_type": "execute_result"
    }
   ],
   "source": [
    "a.size"
   ]
  },
  {
   "cell_type": "markdown",
   "id": "f8674676",
   "metadata": {},
   "source": [
    "So this reshape function will only work if the size of new array is same as the original array."
   ]
  },
  {
   "cell_type": "code",
   "execution_count": 18,
   "id": "efb2d7fa",
   "metadata": {},
   "outputs": [
    {
     "data": {
      "text/plain": [
       "array([[[0, 1, 2],\n",
       "        [3, 4, 5],\n",
       "        [6, 7, 8]]])"
      ]
     },
     "execution_count": 18,
     "metadata": {},
     "output_type": "execute_result"
    }
   ],
   "source": [
    "c"
   ]
  },
  {
   "cell_type": "markdown",
   "id": "122db4ab",
   "metadata": {},
   "source": [
    "'''Flatten function converts the string to a single dimension'''"
   ]
  },
  {
   "cell_type": "code",
   "execution_count": 24,
   "id": "ed9c8b23",
   "metadata": {},
   "outputs": [
    {
     "data": {
      "text/plain": [
       "array([0, 1, 2, 3, 4, 5, 6, 7, 8])"
      ]
     },
     "execution_count": 24,
     "metadata": {},
     "output_type": "execute_result"
    }
   ],
   "source": [
    "c.flatten() "
   ]
  },
  {
   "cell_type": "code",
   "execution_count": 25,
   "id": "ffe495ff",
   "metadata": {},
   "outputs": [
    {
     "data": {
      "text/plain": [
       "array([[[0, 1, 2],\n",
       "        [3, 4, 5],\n",
       "        [6, 7, 8]]])"
      ]
     },
     "execution_count": 25,
     "metadata": {},
     "output_type": "execute_result"
    }
   ],
   "source": [
    "c"
   ]
  },
  {
   "cell_type": "markdown",
   "id": "9f0518e7",
   "metadata": {},
   "source": [
    "Called as Fortran order, takes column wise records and flattens it"
   ]
  },
  {
   "cell_type": "code",
   "execution_count": 29,
   "id": "3dae4f08",
   "metadata": {},
   "outputs": [
    {
     "data": {
      "text/plain": [
       "array([0, 3, 6, 1, 4, 7, 2, 5, 8])"
      ]
     },
     "execution_count": 29,
     "metadata": {},
     "output_type": "execute_result"
    }
   ],
   "source": [
    "c.flatten(order = \"F\")"
   ]
  },
  {
   "cell_type": "code",
   "execution_count": 30,
   "id": "65aa3e36",
   "metadata": {},
   "outputs": [
    {
     "data": {
      "text/plain": [
       "array([[ 0,  1,  2,  3],\n",
       "       [ 4,  5,  6,  7],\n",
       "       [ 8,  9, 10, 11]])"
      ]
     },
     "execution_count": 30,
     "metadata": {},
     "output_type": "execute_result"
    }
   ],
   "source": [
    "a = np.arange(12).reshape(3,4)\n",
    "a"
   ]
  },
  {
   "cell_type": "code",
   "execution_count": 31,
   "id": "1fc1a087",
   "metadata": {},
   "outputs": [
    {
     "data": {
      "text/plain": [
       "array([[ 0,  4,  8],\n",
       "       [ 1,  5,  9],\n",
       "       [ 2,  6, 10],\n",
       "       [ 3,  7, 11]])"
      ]
     },
     "execution_count": 31,
     "metadata": {},
     "output_type": "execute_result"
    }
   ],
   "source": [
    "np.transpose(a)"
   ]
  },
  {
   "cell_type": "markdown",
   "id": "561a0757",
   "metadata": {},
   "source": [
    "Same thing as we transpose a matrix"
   ]
  },
  {
   "cell_type": "code",
   "execution_count": 32,
   "id": "bf3f2a6e",
   "metadata": {},
   "outputs": [
    {
     "data": {
      "text/plain": [
       "array([[[ 0,  1,  2],\n",
       "        [ 3,  4,  5]],\n",
       "\n",
       "       [[ 6,  7,  8],\n",
       "        [ 9, 10, 11]]])"
      ]
     },
     "execution_count": 32,
     "metadata": {},
     "output_type": "execute_result"
    }
   ],
   "source": [
    "c = np.arange(12).reshape(2,2,3)\n",
    "c"
   ]
  },
  {
   "cell_type": "code",
   "execution_count": 33,
   "id": "e38a3a03",
   "metadata": {},
   "outputs": [
    {
     "data": {
      "text/plain": [
       "array([[[ 0,  3],\n",
       "        [ 1,  4],\n",
       "        [ 2,  5]],\n",
       "\n",
       "       [[ 6,  9],\n",
       "        [ 7, 10],\n",
       "        [ 8, 11]]])"
      ]
     },
     "execution_count": 33,
     "metadata": {},
     "output_type": "execute_result"
    }
   ],
   "source": [
    "np.rollaxis(c,2,1)"
   ]
  },
  {
   "cell_type": "code",
   "execution_count": 40,
   "id": "cb0438a0",
   "metadata": {},
   "outputs": [
    {
     "data": {
      "text/plain": [
       "array([[[ 0,  3],\n",
       "        [ 1,  4],\n",
       "        [ 2,  5]],\n",
       "\n",
       "       [[ 6,  9],\n",
       "        [ 7, 10],\n",
       "        [ 8, 11]]])"
      ]
     },
     "execution_count": 40,
     "metadata": {},
     "output_type": "execute_result"
    }
   ],
   "source": [
    "np.swapaxes(c,1,2)"
   ]
  },
  {
   "cell_type": "markdown",
   "id": "81861c74",
   "metadata": {},
   "source": [
    "Note the strange difference in axes spelling here"
   ]
  },
  {
   "cell_type": "markdown",
   "id": "d1c42cd3",
   "metadata": {},
   "source": [
    "# Numpy Arithmetic Operations"
   ]
  },
  {
   "cell_type": "code",
   "execution_count": 42,
   "id": "ef5f6b80",
   "metadata": {},
   "outputs": [],
   "source": [
    "a = np.arange(12).reshape(3,4)"
   ]
  },
  {
   "cell_type": "code",
   "execution_count": 43,
   "id": "aa3ac382",
   "metadata": {},
   "outputs": [
    {
     "data": {
      "text/plain": [
       "array([[ 0,  1,  2,  3],\n",
       "       [ 4,  5,  6,  7],\n",
       "       [ 8,  9, 10, 11]])"
      ]
     },
     "execution_count": 43,
     "metadata": {},
     "output_type": "execute_result"
    }
   ],
   "source": [
    "a"
   ]
  },
  {
   "cell_type": "code",
   "execution_count": 44,
   "id": "2f8edd0e",
   "metadata": {},
   "outputs": [
    {
     "data": {
      "text/plain": [
       "array([10, 10, 10, 10])"
      ]
     },
     "execution_count": 44,
     "metadata": {},
     "output_type": "execute_result"
    }
   ],
   "source": [
    "b = np.array([10,10,10,10])\n",
    "b"
   ]
  },
  {
   "cell_type": "code",
   "execution_count": 45,
   "id": "a6a83a7a",
   "metadata": {},
   "outputs": [
    {
     "data": {
      "text/plain": [
       "array([[10, 11, 12, 13],\n",
       "       [14, 15, 16, 17],\n",
       "       [18, 19, 20, 21]])"
      ]
     },
     "execution_count": 45,
     "metadata": {},
     "output_type": "execute_result"
    }
   ],
   "source": [
    "np.add(a,b)"
   ]
  },
  {
   "cell_type": "code",
   "execution_count": 46,
   "id": "d098e867",
   "metadata": {},
   "outputs": [],
   "source": [
    "c = np.array([1])"
   ]
  },
  {
   "cell_type": "code",
   "execution_count": 47,
   "id": "a11cfd98",
   "metadata": {},
   "outputs": [
    {
     "data": {
      "text/plain": [
       "array([[ 1,  2,  3,  4],\n",
       "       [ 5,  6,  7,  8],\n",
       "       [ 9, 10, 11, 12]])"
      ]
     },
     "execution_count": 47,
     "metadata": {},
     "output_type": "execute_result"
    }
   ],
   "source": [
    "np.add(a,c)"
   ]
  },
  {
   "cell_type": "code",
   "execution_count": 48,
   "id": "788a954d",
   "metadata": {},
   "outputs": [],
   "source": [
    "c = np.array(1)"
   ]
  },
  {
   "cell_type": "code",
   "execution_count": 49,
   "id": "d30374dd",
   "metadata": {},
   "outputs": [
    {
     "data": {
      "text/plain": [
       "array(1)"
      ]
     },
     "execution_count": 49,
     "metadata": {},
     "output_type": "execute_result"
    }
   ],
   "source": [
    "c"
   ]
  },
  {
   "cell_type": "code",
   "execution_count": 50,
   "id": "fe786ca0",
   "metadata": {},
   "outputs": [
    {
     "data": {
      "text/plain": [
       "array([[ 1,  2,  3,  4],\n",
       "       [ 5,  6,  7,  8],\n",
       "       [ 9, 10, 11, 12]])"
      ]
     },
     "execution_count": 50,
     "metadata": {},
     "output_type": "execute_result"
    }
   ],
   "source": [
    "np.add(a,c)"
   ]
  },
  {
   "cell_type": "code",
   "execution_count": 51,
   "id": "994db4b5",
   "metadata": {},
   "outputs": [
    {
     "data": {
      "text/plain": [
       "array([[-10,  -9,  -8,  -7],\n",
       "       [ -6,  -5,  -4,  -3],\n",
       "       [ -2,  -1,   0,   1]])"
      ]
     },
     "execution_count": 51,
     "metadata": {},
     "output_type": "execute_result"
    }
   ],
   "source": [
    "np.subtract(a,b)"
   ]
  },
  {
   "cell_type": "code",
   "execution_count": 54,
   "id": "0bb1a412",
   "metadata": {},
   "outputs": [
    {
     "data": {
      "text/plain": [
       "array([[  0,  10,  20,  30],\n",
       "       [ 40,  50,  60,  70],\n",
       "       [ 80,  90, 100, 110]])"
      ]
     },
     "execution_count": 54,
     "metadata": {},
     "output_type": "execute_result"
    }
   ],
   "source": [
    "np.multiply(a,b)"
   ]
  },
  {
   "cell_type": "code",
   "execution_count": 55,
   "id": "e6217d51",
   "metadata": {},
   "outputs": [
    {
     "data": {
      "text/plain": [
       "array([[0. , 0.1, 0.2, 0.3],\n",
       "       [0.4, 0.5, 0.6, 0.7],\n",
       "       [0.8, 0.9, 1. , 1.1]])"
      ]
     },
     "execution_count": 55,
     "metadata": {},
     "output_type": "execute_result"
    }
   ],
   "source": [
    "np.divide(a,b)"
   ]
  },
  {
   "cell_type": "markdown",
   "id": "267bec9b",
   "metadata": {},
   "source": [
    "# Numpy Slicing"
   ]
  },
  {
   "cell_type": "code",
   "execution_count": 59,
   "id": "7280aa19",
   "metadata": {},
   "outputs": [
    {
     "data": {
      "text/plain": [
       "array([ 0,  1,  2,  3,  4,  5,  6,  7,  8,  9, 10, 11, 12, 13, 14, 15, 16,\n",
       "       17, 18, 19])"
      ]
     },
     "execution_count": 59,
     "metadata": {},
     "output_type": "execute_result"
    }
   ],
   "source": [
    "a = np.arange(20)\n",
    "a"
   ]
  },
  {
   "cell_type": "code",
   "execution_count": 58,
   "id": "8facb325",
   "metadata": {},
   "outputs": [
    {
     "data": {
      "text/plain": [
       "array([ 4,  5,  6,  7,  8,  9, 10, 11, 12, 13, 14, 15, 16, 17, 18, 19])"
      ]
     },
     "execution_count": 58,
     "metadata": {},
     "output_type": "execute_result"
    }
   ],
   "source": [
    "a[4:]"
   ]
  },
  {
   "cell_type": "code",
   "execution_count": 60,
   "id": "8610d09c",
   "metadata": {},
   "outputs": [
    {
     "data": {
      "text/plain": [
       "array([0, 1, 2, 3, 4, 5, 6, 7, 8, 9])"
      ]
     },
     "execution_count": 60,
     "metadata": {},
     "output_type": "execute_result"
    }
   ],
   "source": [
    "a[:10]"
   ]
  },
  {
   "cell_type": "code",
   "execution_count": 61,
   "id": "4062ca71",
   "metadata": {},
   "outputs": [
    {
     "data": {
      "text/plain": [
       "slice(2, 9, 2)"
      ]
     },
     "execution_count": 61,
     "metadata": {},
     "output_type": "execute_result"
    }
   ],
   "source": [
    "s = slice(2,9,2)\n",
    "s"
   ]
  },
  {
   "cell_type": "code",
   "execution_count": 62,
   "id": "8491ab29",
   "metadata": {},
   "outputs": [
    {
     "data": {
      "text/plain": [
       "array([2, 4, 6, 8])"
      ]
     },
     "execution_count": 62,
     "metadata": {},
     "output_type": "execute_result"
    }
   ],
   "source": [
    "a[s]"
   ]
  },
  {
   "cell_type": "code",
   "execution_count": 63,
   "id": "78059f6a",
   "metadata": {},
   "outputs": [],
   "source": [
    "s = slice(2,10,2)"
   ]
  },
  {
   "cell_type": "code",
   "execution_count": 64,
   "id": "5e0c3212",
   "metadata": {},
   "outputs": [
    {
     "data": {
      "text/plain": [
       "array([2, 4, 6, 8])"
      ]
     },
     "execution_count": 64,
     "metadata": {},
     "output_type": "execute_result"
    }
   ],
   "source": [
    "a[s]"
   ]
  },
  {
   "cell_type": "markdown",
   "id": "91be2665",
   "metadata": {},
   "source": [
    "So it's the same thing, the last item is not taken into account, \n",
    "so series starts with 2 (index i.e. integer position) ends with a number just before 10,\n",
    "\n",
    "that is 10 will not be included and have a step of two"
   ]
  },
  {
   "cell_type": "markdown",
   "id": "acf94c04",
   "metadata": {},
   "source": [
    "# Iterating over Array"
   ]
  },
  {
   "cell_type": "markdown",
   "id": "9b114a24",
   "metadata": {},
   "source": [
    "For this we use # np.nditer function"
   ]
  },
  {
   "cell_type": "code",
   "execution_count": 67,
   "id": "571fc21e",
   "metadata": {},
   "outputs": [],
   "source": [
    "a = np.arange(0,45,5)"
   ]
  },
  {
   "cell_type": "code",
   "execution_count": 68,
   "id": "2f1f013d",
   "metadata": {},
   "outputs": [
    {
     "data": {
      "text/plain": [
       "array([ 0,  5, 10, 15, 20, 25, 30, 35, 40])"
      ]
     },
     "execution_count": 68,
     "metadata": {},
     "output_type": "execute_result"
    }
   ],
   "source": [
    "a"
   ]
  },
  {
   "cell_type": "code",
   "execution_count": 69,
   "id": "b213fe00",
   "metadata": {},
   "outputs": [
    {
     "data": {
      "text/plain": [
       "array([[ 0,  5, 10],\n",
       "       [15, 20, 25],\n",
       "       [30, 35, 40]])"
      ]
     },
     "execution_count": 69,
     "metadata": {},
     "output_type": "execute_result"
    }
   ],
   "source": [
    "a.reshape(3,3)"
   ]
  },
  {
   "cell_type": "code",
   "execution_count": 70,
   "id": "cd735b59",
   "metadata": {},
   "outputs": [
    {
     "name": "stdout",
     "output_type": "stream",
     "text": [
      "0\n",
      "5\n",
      "10\n",
      "15\n",
      "20\n",
      "25\n",
      "30\n",
      "35\n",
      "40\n"
     ]
    }
   ],
   "source": [
    "for x in np.nditer(a):\n",
    "    print(x)\n"
   ]
  },
  {
   "cell_type": "markdown",
   "id": "2b4e0e3b",
   "metadata": {},
   "source": [
    "So np.nditer helps us to iterate over an numpy array"
   ]
  },
  {
   "cell_type": "code",
   "execution_count": null,
   "id": "b41e95ae",
   "metadata": {},
   "outputs": [],
   "source": []
  },
  {
   "cell_type": "code",
   "execution_count": 74,
   "id": "45237f22",
   "metadata": {},
   "outputs": [
    {
     "name": "stdout",
     "output_type": "stream",
     "text": [
      "0\n",
      "5\n",
      "10\n",
      "15\n",
      "20\n",
      "25\n",
      "30\n",
      "35\n",
      "40\n"
     ]
    }
   ],
   "source": [
    "for x in a:\n",
    "    print(x)"
   ]
  },
  {
   "cell_type": "markdown",
   "id": "d6dfbb88",
   "metadata": {},
   "source": [
    "# Iteration order (c-style and f-style)"
   ]
  },
  {
   "cell_type": "markdown",
   "id": "630914b3",
   "metadata": {},
   "source": [
    "C sytle and fortran styling as seen in flatten function of python"
   ]
  },
  {
   "cell_type": "code",
   "execution_count": 76,
   "id": "3d737e84",
   "metadata": {},
   "outputs": [
    {
     "data": {
      "text/plain": [
       "array([[ 0,  1,  2,  3],\n",
       "       [ 4,  5,  6,  7],\n",
       "       [ 8,  9, 10, 11]])"
      ]
     },
     "execution_count": 76,
     "metadata": {},
     "output_type": "execute_result"
    }
   ],
   "source": [
    "a = np.arange(12).reshape(3,4)\n",
    "a"
   ]
  },
  {
   "cell_type": "code",
   "execution_count": 79,
   "id": "bc463698",
   "metadata": {},
   "outputs": [
    {
     "name": "stdout",
     "output_type": "stream",
     "text": [
      "0\n",
      "1\n",
      "2\n",
      "3\n",
      "4\n",
      "5\n",
      "6\n",
      "7\n",
      "8\n",
      "9\n",
      "10\n",
      "11\n",
      "\n",
      "0\n",
      "4\n",
      "8\n",
      "1\n",
      "5\n",
      "9\n",
      "2\n",
      "6\n",
      "10\n",
      "3\n",
      "7\n",
      "11\n"
     ]
    }
   ],
   "source": [
    "for x in np.nditer(a, order = \"C\"):  # default order that is row wise print\n",
    "    print(x)\n",
    "    \n",
    "print()   # for printing some gaps\n",
    "\n",
    "for x in np.nditer(a, order = \"F\"):  # column wise print \n",
    "    print(x)"
   ]
  },
  {
   "cell_type": "markdown",
   "id": "532be9ac",
   "metadata": {},
   "source": [
    "# Joining arrays"
   ]
  },
  {
   "cell_type": "code",
   "execution_count": 85,
   "id": "5592fb85",
   "metadata": {},
   "outputs": [
    {
     "name": "stdout",
     "output_type": "stream",
     "text": [
      "First Array\n",
      "[[2 3]\n",
      " [4 5]]\n",
      "\n",
      "\n",
      "Second Array\n",
      "[[20 30]\n",
      " [40 50]]\n"
     ]
    }
   ],
   "source": [
    "print(\"First Array\")\n",
    "a = np.array([[2,3],[4,5]])\n",
    "print(a)\n",
    "print(\"\\n\")\n",
    "print(\"Second Array\") \n",
    "b = np.array([[20,30], [40,50]])\n",
    "print(b)"
   ]
  },
  {
   "cell_type": "markdown",
   "id": "267845ca",
   "metadata": {},
   "source": [
    "Joining the two arrays using concatenate along axis 0:, axis = 0 means row wise, axis = 1 means column wise, something like this it is.,\n",
    "\n",
    "So axis = 0 means vertically appending, so number of rows gets increased"
   ]
  },
  {
   "cell_type": "code",
   "execution_count": 88,
   "id": "28d0838c",
   "metadata": {},
   "outputs": [
    {
     "data": {
      "text/plain": [
       "array([[ 2,  3],\n",
       "       [ 4,  5],\n",
       "       [20, 30],\n",
       "       [40, 50]])"
      ]
     },
     "execution_count": 88,
     "metadata": {},
     "output_type": "execute_result"
    }
   ],
   "source": [
    "np.concatenate((a,b))"
   ]
  },
  {
   "cell_type": "markdown",
   "id": "7fef5124",
   "metadata": {},
   "source": [
    "concatenating the two arrays along axis = 1 means horizontally joining the two arrays,\n",
    "\n",
    "so number of columns gets increased and number of rows remains the same"
   ]
  },
  {
   "cell_type": "code",
   "execution_count": 89,
   "id": "1487cb25",
   "metadata": {},
   "outputs": [
    {
     "data": {
      "text/plain": [
       "array([[ 2,  3, 20, 30],\n",
       "       [ 4,  5, 40, 50]])"
      ]
     },
     "execution_count": 89,
     "metadata": {},
     "output_type": "execute_result"
    }
   ],
   "source": [
    "np.concatenate((a,b), axis = 1)"
   ]
  },
  {
   "cell_type": "markdown",
   "id": "19bebf2f",
   "metadata": {},
   "source": [
    "# Splitting arrays"
   ]
  },
  {
   "cell_type": "code",
   "execution_count": 90,
   "id": "7593099c",
   "metadata": {},
   "outputs": [
    {
     "data": {
      "text/plain": [
       "array([0, 1, 2, 3, 4, 5, 6, 7, 8])"
      ]
     },
     "execution_count": 90,
     "metadata": {},
     "output_type": "execute_result"
    }
   ],
   "source": [
    "a = np.arange(9)\n",
    "a"
   ]
  },
  {
   "cell_type": "code",
   "execution_count": 94,
   "id": "afa82158",
   "metadata": {},
   "outputs": [
    {
     "data": {
      "text/plain": [
       "[array([0, 1, 2]), array([3, 4, 5]), array([6, 7, 8])]"
      ]
     },
     "execution_count": 94,
     "metadata": {},
     "output_type": "execute_result"
    }
   ],
   "source": [
    "np.split(a,3)"
   ]
  },
  {
   "cell_type": "code",
   "execution_count": 92,
   "id": "419713ea",
   "metadata": {},
   "outputs": [
    {
     "data": {
      "text/plain": [
       "array([0, 1, 2])"
      ]
     },
     "execution_count": 92,
     "metadata": {},
     "output_type": "execute_result"
    }
   ],
   "source": [
    "np.split(a,3)[0]"
   ]
  },
  {
   "cell_type": "code",
   "execution_count": 95,
   "id": "ae101a75",
   "metadata": {},
   "outputs": [
    {
     "name": "stdout",
     "output_type": "stream",
     "text": [
      "[0 1 2]\n"
     ]
    }
   ],
   "source": [
    "print(np.split(a,3)[0])"
   ]
  },
  {
   "cell_type": "code",
   "execution_count": 96,
   "id": "fe0f7b6e",
   "metadata": {},
   "outputs": [
    {
     "data": {
      "text/plain": [
       "[array([0, 1, 2, 3]), array([4]), array([5, 6, 7, 8])]"
      ]
     },
     "execution_count": 96,
     "metadata": {},
     "output_type": "execute_result"
    }
   ],
   "source": [
    "np.split(a, [4,5])"
   ]
  },
  {
   "cell_type": "code",
   "execution_count": 98,
   "id": "d7cabafc",
   "metadata": {},
   "outputs": [
    {
     "data": {
      "text/plain": [
       "[array([0, 1, 2, 3]), array([4, 5, 6]), array([7, 8])]"
      ]
     },
     "execution_count": 98,
     "metadata": {},
     "output_type": "execute_result"
    }
   ],
   "source": [
    "np.split(a,[4,7]) # so here we are defining the index using which we need to split our array"
   ]
  },
  {
   "cell_type": "code",
   "execution_count": 99,
   "id": "95c6197b",
   "metadata": {},
   "outputs": [
    {
     "data": {
      "text/plain": [
       "[array([0, 1]), array([2]), array([3, 4, 5, 6, 7]), array([8])]"
      ]
     },
     "execution_count": 99,
     "metadata": {},
     "output_type": "execute_result"
    }
   ],
   "source": [
    "np.split(a, [2,3,8])"
   ]
  },
  {
   "cell_type": "markdown",
   "id": "8ee7eaab",
   "metadata": {},
   "source": [
    "# Resizing an array"
   ]
  },
  {
   "cell_type": "code",
   "execution_count": 101,
   "id": "8b07f6e6",
   "metadata": {},
   "outputs": [
    {
     "name": "stdout",
     "output_type": "stream",
     "text": [
      "[[ 4  5  6]\n",
      " [40 50 60]]\n",
      "(2, 3)\n"
     ]
    }
   ],
   "source": [
    "a = np.array([[4,5,6], [40,50,60]])\n",
    "print(a)\n",
    "print(a.shape)"
   ]
  },
  {
   "cell_type": "code",
   "execution_count": 102,
   "id": "21e7c172",
   "metadata": {},
   "outputs": [
    {
     "data": {
      "text/plain": [
       "array([[ 4,  5],\n",
       "       [ 6, 40],\n",
       "       [50, 60]])"
      ]
     },
     "execution_count": 102,
     "metadata": {},
     "output_type": "execute_result"
    }
   ],
   "source": [
    "b = np.resize(a, (3,2))\n",
    "b"
   ]
  },
  {
   "cell_type": "code",
   "execution_count": 106,
   "id": "254b66b2",
   "metadata": {},
   "outputs": [
    {
     "data": {
      "text/plain": [
       "array([[ 4,  5],\n",
       "       [ 6, 40],\n",
       "       [50, 60]])"
      ]
     },
     "execution_count": 106,
     "metadata": {},
     "output_type": "execute_result"
    }
   ],
   "source": [
    "c = a.reshape((3,2))\n",
    "c"
   ]
  },
  {
   "cell_type": "markdown",
   "id": "04ad6997",
   "metadata": {},
   "source": [
    "but the point is we can resize it to any shape it will adjust accordingly"
   ]
  },
  {
   "cell_type": "code",
   "execution_count": 108,
   "id": "677a380c",
   "metadata": {},
   "outputs": [
    {
     "data": {
      "text/plain": [
       "array([[ 4,  5,  6],\n",
       "       [40, 50, 60],\n",
       "       [ 4,  5,  6]])"
      ]
     },
     "execution_count": 108,
     "metadata": {},
     "output_type": "execute_result"
    }
   ],
   "source": [
    "d = np.resize(a, (3,3))\n",
    "d"
   ]
  },
  {
   "cell_type": "code",
   "execution_count": 111,
   "id": "1415ad9b",
   "metadata": {},
   "outputs": [
    {
     "data": {
      "text/plain": [
       "array([[ 4,  5,  6, 40, 50, 60,  4,  5,  6, 40],\n",
       "       [50, 60,  4,  5,  6, 40, 50, 60,  4,  5],\n",
       "       [ 6, 40, 50, 60,  4,  5,  6, 40, 50, 60]])"
      ]
     },
     "execution_count": 111,
     "metadata": {},
     "output_type": "execute_result"
    }
   ],
   "source": [
    "e = np.resize(a, (3,10))\n",
    "e"
   ]
  },
  {
   "cell_type": "markdown",
   "id": "727579d0",
   "metadata": {},
   "source": [
    "So, using the elements of the first array \"a\" we can resize it to any size we want, it will not through any error"
   ]
  },
  {
   "cell_type": "code",
   "execution_count": 114,
   "id": "98cc6908",
   "metadata": {},
   "outputs": [
    {
     "data": {
      "text/plain": [
       "array([[ 4,  5,  6],\n",
       "       [40, 50, 60],\n",
       "       [ 4,  5,  6],\n",
       "       [40, 50, 60],\n",
       "       [ 4,  5,  6],\n",
       "       [40, 50, 60],\n",
       "       [ 4,  5,  6],\n",
       "       [40, 50, 60],\n",
       "       [ 4,  5,  6],\n",
       "       [40, 50, 60],\n",
       "       [ 4,  5,  6],\n",
       "       [40, 50, 60],\n",
       "       [ 4,  5,  6],\n",
       "       [40, 50, 60],\n",
       "       [ 4,  5,  6],\n",
       "       [40, 50, 60],\n",
       "       [ 4,  5,  6],\n",
       "       [40, 50, 60],\n",
       "       [ 4,  5,  6],\n",
       "       [40, 50, 60]])"
      ]
     },
     "execution_count": 114,
     "metadata": {},
     "output_type": "execute_result"
    }
   ],
   "source": [
    "f = np.resize(a,(20,3))\n",
    "f"
   ]
  },
  {
   "cell_type": "code",
   "execution_count": 116,
   "id": "f457a65a",
   "metadata": {},
   "outputs": [
    {
     "data": {
      "text/plain": [
       "array([ 4,  5,  6, 40, 50, 60,  4])"
      ]
     },
     "execution_count": 116,
     "metadata": {},
     "output_type": "execute_result"
    }
   ],
   "source": [
    "g = np.resize(a, 7)\n",
    "g"
   ]
  },
  {
   "cell_type": "markdown",
   "id": "67a055d0",
   "metadata": {},
   "source": [
    "# Histogram"
   ]
  },
  {
   "cell_type": "code",
   "execution_count": 117,
   "id": "75c4ebc5",
   "metadata": {},
   "outputs": [],
   "source": [
    "from matplotlib import pyplot as plt"
   ]
  },
  {
   "cell_type": "code",
   "execution_count": 125,
   "id": "a7b2415a",
   "metadata": {},
   "outputs": [],
   "source": [
    "a = np.arange(9)\n",
    "\n",
    "b = np.arange(1,18,2)"
   ]
  },
  {
   "cell_type": "code",
   "execution_count": 126,
   "id": "c5a1b4aa",
   "metadata": {},
   "outputs": [
    {
     "data": {
      "text/plain": [
       "array([0, 1, 2, 3, 4, 5, 6, 7, 8])"
      ]
     },
     "execution_count": 126,
     "metadata": {},
     "output_type": "execute_result"
    }
   ],
   "source": [
    "a"
   ]
  },
  {
   "cell_type": "code",
   "execution_count": 127,
   "id": "1cc9e44d",
   "metadata": {},
   "outputs": [
    {
     "data": {
      "text/plain": [
       "array([ 1,  3,  5,  7,  9, 11, 13, 15, 17])"
      ]
     },
     "execution_count": 127,
     "metadata": {},
     "output_type": "execute_result"
    }
   ],
   "source": [
    "b"
   ]
  },
  {
   "cell_type": "code",
   "execution_count": 128,
   "id": "41503845",
   "metadata": {},
   "outputs": [
    {
     "data": {
      "text/plain": [
       "[<matplotlib.lines.Line2D at 0x7f96f142af40>]"
      ]
     },
     "execution_count": 128,
     "metadata": {},
     "output_type": "execute_result"
    },
    {
     "data": {
      "image/png": "[encoded data removed]",
      "text/plain": [
       "<Figure size 432x288 with 1 Axes>"
      ]
     },
     "metadata": {
      "needs_background": "light"
     },
     "output_type": "display_data"
    }
   ],
   "source": [
    "plt.plot(a,b)"
   ]
  },
  {
   "cell_type": "code",
   "execution_count": 132,
   "id": "cad89f2b",
   "metadata": {},
   "outputs": [
    {
     "data": {
      "text/plain": [
       "Text(0.5, 1.0, 'Histogram')"
      ]
     },
     "execution_count": 132,
     "metadata": {},
     "output_type": "execute_result"
    },
    {
     "data": {
      "image/png": "[encoded data removed]",
      "text/plain": [
       "<Figure size 432x288 with 1 Axes>"
      ]
     },
     "metadata": {
      "needs_background": "light"
     },
     "output_type": "display_data"
    }
   ],
   "source": [
    "plt.hist(a, bins = [0,2,4,8])\n",
    "plt.title(\"Histogram\")"
   ]
  },
  {
   "cell_type": "code",
   "execution_count": 138,
   "id": "5e8d1766",
   "metadata": {},
   "outputs": [],
   "source": [
    "a = np.array([20,30,21,43,56,15,90,67,69,34,78,68,45,36,1,9,10])"
   ]
  },
  {
   "cell_type": "code",
   "execution_count": 143,
   "id": "24311e29",
   "metadata": {},
   "outputs": [
    {
     "data": {
      "text/plain": [
       "Text(0, 0.5, 'y - axis')"
      ]
     },
     "execution_count": 143,
     "metadata": {},
     "output_type": "execute_result"
    },
    {
     "data": {
      "image/png": "[encoded data removed]",
      "text/plain": [
       "<Figure size 432x288 with 1 Axes>"
      ]
     },
     "metadata": {
      "needs_background": "light"
     },
     "output_type": "display_data"
    }
   ],
   "source": [
    "plt.hist(a, bins = [0,20,40,60,80,100])\n",
    "plt.title(\"My Histogram\")\n",
    "plt.xlabel(\"x - axis\")\n",
    "plt.ylabel(\"y - axis\")"
   ]
  },
  {
   "cell_type": "markdown",
   "id": "322cdcfe",
   "metadata": {},
   "source": [
    "# Other useful Numpy Functions"
   ]
  },
  {
   "cell_type": "code",
   "execution_count": 144,
   "id": "332fd80a",
   "metadata": {},
   "outputs": [
    {
     "name": "stdout",
     "output_type": "stream",
     "text": [
      "[1.         1.22222222 1.44444444 1.66666667 1.88888889 2.11111111\n",
      " 2.33333333 2.55555556 2.77777778 3.        ]\n"
     ]
    }
   ],
   "source": [
    "# linspace function\n",
    "# it creates equal spaced numbers between two numbers\n",
    "\n",
    "a = np.linspace(1,3,10)\n",
    "print(a)"
   ]
  },
  {
   "cell_type": "code",
   "execution_count": 145,
   "id": "fb991b32",
   "metadata": {},
   "outputs": [],
   "source": [
    "# sum and axis\n",
    "\n",
    "a = np.array([(1,2,3),(4,5,6)])"
   ]
  },
  {
   "cell_type": "code",
   "execution_count": 150,
   "id": "76510523",
   "metadata": {},
   "outputs": [
    {
     "name": "stdout",
     "output_type": "stream",
     "text": [
      "[[1 2 3]\n",
      " [4 5 6]]\n"
     ]
    }
   ],
   "source": [
    "print(a)"
   ]
  },
  {
   "cell_type": "code",
   "execution_count": 148,
   "id": "1429aaa2",
   "metadata": {},
   "outputs": [
    {
     "name": "stdout",
     "output_type": "stream",
     "text": [
      "[5 7 9]\n"
     ]
    }
   ],
   "source": [
    "print(a.sum(axis = 0))"
   ]
  },
  {
   "cell_type": "code",
   "execution_count": 149,
   "id": "700c9645",
   "metadata": {},
   "outputs": [
    {
     "name": "stdout",
     "output_type": "stream",
     "text": [
      "[ 6 15]\n"
     ]
    }
   ],
   "source": [
    "print(a.sum(axis = 1))"
   ]
  },
  {
   "cell_type": "code",
   "execution_count": 156,
   "id": "9647426b",
   "metadata": {},
   "outputs": [
    {
     "name": "stdout",
     "output_type": "stream",
     "text": [
      "[[1.         1.41421356 1.73205081]\n",
      " [2.         2.23606798 2.44948974]]\n",
      "1.707825127659933\n"
     ]
    }
   ],
   "source": [
    "# square root and standard deviation \n",
    "# two very important tools we use in machine learning in data science\n",
    "\n",
    "a = np.array([(1,2,3),(4,5,6)])\n",
    "\n",
    "print(np.sqrt(a))        # do the square root of each element of the array\n",
    "\n",
    "print(np.std(a))         # gives the standard deviation of the elements"
   ]
  },
  {
   "cell_type": "code",
   "execution_count": 157,
   "id": "3ea2ede8",
   "metadata": {},
   "outputs": [
    {
     "name": "stdout",
     "output_type": "stream",
     "text": [
      "[[0.         0.30103    0.47712125]\n",
      " [0.60205999 0.69897    0.77815125]]\n"
     ]
    }
   ],
   "source": [
    "# log10 function\n",
    "\n",
    "a = np.array([(1,2,3),(4,5,6)])\n",
    "\n",
    "print(np.log10(a))"
   ]
  },
  {
   "cell_type": "markdown",
   "id": "270dd9e3",
   "metadata": {},
   "source": [
    "# Practice session"
   ]
  },
  {
   "cell_type": "markdown",
   "id": "2a519de4",
   "metadata": {},
   "source": [
    "Plotting a sine curve using numpy and matplotlib\n",
    "\n"
   ]
  },
  {
   "cell_type": "code",
   "execution_count": 162,
   "id": "f333e9db",
   "metadata": {},
   "outputs": [
    {
     "data": {
      "text/plain": [
       "array([-9.42477796, -9.23437841, -9.04397885, -8.8535793 , -8.66317974,\n",
       "       -8.47278019, -8.28238063, -8.09198108, -7.90158152, -7.71118197,\n",
       "       -7.52078241, -7.33038286, -7.1399833 , -6.94958375, -6.75918419,\n",
       "       -6.56878464, -6.37838508, -6.18798553, -5.99758598, -5.80718642,\n",
       "       -5.61678687, -5.42638731, -5.23598776, -5.0455882 , -4.85518865,\n",
       "       -4.66478909, -4.47438954, -4.28398998, -4.09359043, -3.90319087,\n",
       "       -3.71279132, -3.52239176, -3.33199221, -3.14159265, -2.9511931 ,\n",
       "       -2.76079354, -2.57039399, -2.37999443, -2.18959488, -1.99919533,\n",
       "       -1.80879577, -1.61839622, -1.42799666, -1.23759711, -1.04719755,\n",
       "       -0.856798  , -0.66639844, -0.47599889, -0.28559933, -0.09519978,\n",
       "        0.09519978,  0.28559933,  0.47599889,  0.66639844,  0.856798  ,\n",
       "        1.04719755,  1.23759711,  1.42799666,  1.61839622,  1.80879577,\n",
       "        1.99919533,  2.18959488,  2.37999443,  2.57039399,  2.76079354,\n",
       "        2.9511931 ,  3.14159265,  3.33199221,  3.52239176,  3.71279132,\n",
       "        3.90319087,  4.09359043,  4.28398998,  4.47438954,  4.66478909,\n",
       "        4.85518865,  5.0455882 ,  5.23598776,  5.42638731,  5.61678687,\n",
       "        5.80718642,  5.99758598,  6.18798553,  6.37838508,  6.56878464,\n",
       "        6.75918419,  6.94958375,  7.1399833 ,  7.33038286,  7.52078241,\n",
       "        7.71118197,  7.90158152,  8.09198108,  8.28238063,  8.47278019,\n",
       "        8.66317974,  8.8535793 ,  9.04397885,  9.23437841,  9.42477796])"
      ]
     },
     "execution_count": 162,
     "metadata": {},
     "output_type": "execute_result"
    }
   ],
   "source": [
    "x = np.linspace(-3*np.pi,3*np.pi, 100)\n",
    "x"
   ]
  },
  {
   "cell_type": "code",
   "execution_count": 165,
   "id": "6bceb8a4",
   "metadata": {},
   "outputs": [
    {
     "data": {
      "text/plain": [
       "array([-3.67394040e-16, -1.89251244e-01, -3.71662456e-01, -5.40640817e-01,\n",
       "       -6.90079011e-01, -8.14575952e-01, -9.09631995e-01, -9.71811568e-01,\n",
       "       -9.98867339e-01, -9.89821442e-01, -9.45000819e-01, -8.66025404e-01,\n",
       "       -7.55749574e-01, -6.18158986e-01, -4.58226522e-01, -2.81732557e-01,\n",
       "       -9.50560433e-02,  9.50560433e-02,  2.81732557e-01,  4.58226522e-01,\n",
       "        6.18158986e-01,  7.55749574e-01,  8.66025404e-01,  9.45000819e-01,\n",
       "        9.89821442e-01,  9.98867339e-01,  9.71811568e-01,  9.09631995e-01,\n",
       "        8.14575952e-01,  6.90079011e-01,  5.40640817e-01,  3.71662456e-01,\n",
       "        1.89251244e-01, -1.22464680e-16, -1.89251244e-01, -3.71662456e-01,\n",
       "       -5.40640817e-01, -6.90079011e-01, -8.14575952e-01, -9.09631995e-01,\n",
       "       -9.71811568e-01, -9.98867339e-01, -9.89821442e-01, -9.45000819e-01,\n",
       "       -8.66025404e-01, -7.55749574e-01, -6.18158986e-01, -4.58226522e-01,\n",
       "       -2.81732557e-01, -9.50560433e-02,  9.50560433e-02,  2.81732557e-01,\n",
       "        4.58226522e-01,  6.18158986e-01,  7.55749574e-01,  8.66025404e-01,\n",
       "        9.45000819e-01,  9.89821442e-01,  9.98867339e-01,  9.71811568e-01,\n",
       "        9.09631995e-01,  8.14575952e-01,  6.90079011e-01,  5.40640817e-01,\n",
       "        3.71662456e-01,  1.89251244e-01,  1.22464680e-16, -1.89251244e-01,\n",
       "       -3.71662456e-01, -5.40640817e-01, -6.90079011e-01, -8.14575952e-01,\n",
       "       -9.09631995e-01, -9.71811568e-01, -9.98867339e-01, -9.89821442e-01,\n",
       "       -9.45000819e-01, -8.66025404e-01, -7.55749574e-01, -6.18158986e-01,\n",
       "       -4.58226522e-01, -2.81732557e-01, -9.50560433e-02,  9.50560433e-02,\n",
       "        2.81732557e-01,  4.58226522e-01,  6.18158986e-01,  7.55749574e-01,\n",
       "        8.66025404e-01,  9.45000819e-01,  9.89821442e-01,  9.98867339e-01,\n",
       "        9.71811568e-01,  9.09631995e-01,  8.14575952e-01,  6.90079011e-01,\n",
       "        5.40640817e-01,  3.71662456e-01,  1.89251244e-01,  3.67394040e-16])"
      ]
     },
     "execution_count": 165,
     "metadata": {},
     "output_type": "execute_result"
    }
   ],
   "source": [
    "y = np.sin(x)\n",
    "y"
   ]
  },
  {
   "cell_type": "code",
   "execution_count": 166,
   "id": "4c235980",
   "metadata": {},
   "outputs": [],
   "source": [
    "from matplotlib import pyplot as plt"
   ]
  },
  {
   "cell_type": "code",
   "execution_count": 167,
   "id": "20bd5ee4",
   "metadata": {},
   "outputs": [
    {
     "data": {
      "text/plain": [
       "[<matplotlib.lines.Line2D at 0x7f96d085a190>]"
      ]
     },
     "execution_count": 167,
     "metadata": {},
     "output_type": "execute_result"
    },
    {
     "data": {
      "image/png": "[encoded data removed]",
      "text/plain": [
       "<Figure size 432x288 with 1 Axes>"
      ]
     },
     "metadata": {
      "needs_background": "light"
     },
     "output_type": "display_data"
    }
   ],
   "source": [
    "plt.plot(x,y)"
   ]
  },
  {
   "cell_type": "markdown",
   "id": "f14995bc",
   "metadata": {},
   "source": [
    "Create a two dimentional 6*6 array, which have 1 and 0 placed alternatively across the diagonals"
   ]
  },
  {
   "cell_type": "code",
   "execution_count": 169,
   "id": "6cc1ef86",
   "metadata": {},
   "outputs": [],
   "source": [
    "a = np.zeros((6,6))"
   ]
  },
  {
   "cell_type": "code",
   "execution_count": 170,
   "id": "ef2cfb35",
   "metadata": {},
   "outputs": [
    {
     "data": {
      "text/plain": [
       "array([[0., 0., 0., 0., 0., 0.],\n",
       "       [0., 0., 0., 0., 0., 0.],\n",
       "       [0., 0., 0., 0., 0., 0.],\n",
       "       [0., 0., 0., 0., 0., 0.],\n",
       "       [0., 0., 0., 0., 0., 0.],\n",
       "       [0., 0., 0., 0., 0., 0.]])"
      ]
     },
     "execution_count": 170,
     "metadata": {},
     "output_type": "execute_result"
    }
   ],
   "source": [
    "a"
   ]
  },
  {
   "cell_type": "code",
   "execution_count": 171,
   "id": "6d63fa1b",
   "metadata": {},
   "outputs": [],
   "source": [
    "a[0][0] = 1         # changing diagonal elements of the array"
   ]
  },
  {
   "cell_type": "code",
   "execution_count": 173,
   "id": "dabd0745",
   "metadata": {},
   "outputs": [
    {
     "data": {
      "text/plain": [
       "array([[1., 0., 0., 0., 0., 0.],\n",
       "       [0., 0., 0., 0., 0., 0.],\n",
       "       [0., 0., 0., 0., 0., 0.],\n",
       "       [0., 0., 0., 0., 0., 0.],\n",
       "       [0., 0., 0., 0., 0., 0.],\n",
       "       [0., 0., 0., 0., 0., 0.]])"
      ]
     },
     "execution_count": 173,
     "metadata": {},
     "output_type": "execute_result"
    }
   ],
   "source": [
    "a"
   ]
  },
  {
   "cell_type": "code",
   "execution_count": 174,
   "id": "622b64d1",
   "metadata": {},
   "outputs": [],
   "source": [
    "a[2][2] = 1\n",
    "a[4][4] = 1"
   ]
  },
  {
   "cell_type": "code",
   "execution_count": 175,
   "id": "91dab909",
   "metadata": {},
   "outputs": [
    {
     "data": {
      "text/plain": [
       "array([[1., 0., 0., 0., 0., 0.],\n",
       "       [0., 0., 0., 0., 0., 0.],\n",
       "       [0., 0., 1., 0., 0., 0.],\n",
       "       [0., 0., 0., 0., 0., 0.],\n",
       "       [0., 0., 0., 0., 1., 0.],\n",
       "       [0., 0., 0., 0., 0., 0.]])"
      ]
     },
     "execution_count": 175,
     "metadata": {},
     "output_type": "execute_result"
    }
   ],
   "source": [
    "a"
   ]
  },
  {
   "cell_type": "code",
   "execution_count": 176,
   "id": "c0b35bda",
   "metadata": {},
   "outputs": [
    {
     "data": {
      "text/plain": [
       "array([[0, 0, 0, 0, 0, 0],\n",
       "       [0, 0, 0, 0, 0, 0],\n",
       "       [0, 0, 0, 0, 0, 0],\n",
       "       [0, 0, 0, 0, 0, 0],\n",
       "       [0, 0, 0, 0, 0, 0],\n",
       "       [0, 0, 0, 0, 0, 0]])"
      ]
     },
     "execution_count": 176,
     "metadata": {},
     "output_type": "execute_result"
    }
   ],
   "source": [
    "a = np.zeros((6,6), dtype = int)\n",
    "a"
   ]
  },
  {
   "cell_type": "code",
   "execution_count": 179,
   "id": "1f2d3072",
   "metadata": {},
   "outputs": [
    {
     "data": {
      "text/plain": [
       "6"
      ]
     },
     "execution_count": 179,
     "metadata": {},
     "output_type": "execute_result"
    }
   ],
   "source": [
    "a.shape[0]"
   ]
  },
  {
   "cell_type": "markdown",
   "id": "cd6520d4",
   "metadata": {},
   "source": [
    "but here we need to change all diagonals alternatively by 0 and 1"
   ]
  },
  {
   "cell_type": "code",
   "execution_count": 181,
   "id": "0ce8496d",
   "metadata": {},
   "outputs": [],
   "source": [
    "for x in np.nditer(a):\n",
    "    for i in range(a.shape[0]):\n",
    "        for j in range(a.shape[0]):\n",
    "            if (i + j)%2  == 0:\n",
    "                a[i][j] = 0\n",
    "            else:\n",
    "                a[i][j] = 1\n",
    "            "
   ]
  },
  {
   "cell_type": "code",
   "execution_count": 182,
   "id": "e804b0e8",
   "metadata": {},
   "outputs": [
    {
     "data": {
      "text/plain": [
       "array([[0, 1, 0, 1, 0, 1],\n",
       "       [1, 0, 1, 0, 1, 0],\n",
       "       [0, 1, 0, 1, 0, 1],\n",
       "       [1, 0, 1, 0, 1, 0],\n",
       "       [0, 1, 0, 1, 0, 1],\n",
       "       [1, 0, 1, 0, 1, 0]])"
      ]
     },
     "execution_count": 182,
     "metadata": {},
     "output_type": "execute_result"
    }
   ],
   "source": [
    "a"
   ]
  },
  {
   "cell_type": "markdown",
   "id": "a4ad5127",
   "metadata": {},
   "source": [
    "suppose a is a 100 by 100 array, lets see if it works there as well"
   ]
  },
  {
   "cell_type": "code",
   "execution_count": 192,
   "id": "410d01b2",
   "metadata": {},
   "outputs": [],
   "source": [
    "a = np.zeros((100,100), dtype = int)"
   ]
  },
  {
   "cell_type": "code",
   "execution_count": 193,
   "id": "1b726937",
   "metadata": {},
   "outputs": [
    {
     "data": {
      "text/plain": [
       "array([[0, 0, 0, ..., 0, 0, 0],\n",
       "       [0, 0, 0, ..., 0, 0, 0],\n",
       "       [0, 0, 0, ..., 0, 0, 0],\n",
       "       ...,\n",
       "       [0, 0, 0, ..., 0, 0, 0],\n",
       "       [0, 0, 0, ..., 0, 0, 0],\n",
       "       [0, 0, 0, ..., 0, 0, 0]])"
      ]
     },
     "execution_count": 193,
     "metadata": {},
     "output_type": "execute_result"
    }
   ],
   "source": [
    "a"
   ]
  },
  {
   "cell_type": "code",
   "execution_count": 194,
   "id": "dc91c239",
   "metadata": {},
   "outputs": [],
   "source": [
    "for x in np.nditer(a):\n",
    "    for i in range(a.shape[0]):\n",
    "        for j in range(a.shape[0]):\n",
    "            if (i + j)%2  == 0:\n",
    "                a[i][j] = 0\n",
    "            else:\n",
    "                a[i][j] = 1\n",
    "            "
   ]
  },
  {
   "cell_type": "code",
   "execution_count": 201,
   "id": "795b9e29",
   "metadata": {},
   "outputs": [
    {
     "data": {
      "text/plain": [
       "array([[0, 1, 0, ..., 1, 0, 1],\n",
       "       [1, 0, 1, ..., 0, 1, 0],\n",
       "       [0, 1, 0, ..., 1, 0, 1],\n",
       "       ...,\n",
       "       [1, 0, 1, ..., 0, 1, 0],\n",
       "       [0, 1, 0, ..., 1, 0, 1],\n",
       "       [1, 0, 1, ..., 0, 1, 0]])"
      ]
     },
     "execution_count": 201,
     "metadata": {},
     "output_type": "execute_result"
    }
   ],
   "source": [
    "a"
   ]
  },
  {
   "cell_type": "code",
   "execution_count": null,
   "id": "50cf37d5",
   "metadata": {},
   "outputs": [],
   "source": [
    "# Another method using tricky indexing"
   ]
  },
  {
   "cell_type": "code",
   "execution_count": 229,
   "id": "ee6f7c01",
   "metadata": {},
   "outputs": [
    {
     "data": {
      "text/plain": [
       "array([[0, 0, 0, 0, 0, 0],\n",
       "       [0, 0, 0, 0, 0, 0],\n",
       "       [0, 0, 0, 0, 0, 0],\n",
       "       [0, 0, 0, 0, 0, 0],\n",
       "       [0, 0, 0, 0, 0, 0],\n",
       "       [0, 0, 0, 0, 0, 0]])"
      ]
     },
     "execution_count": 229,
     "metadata": {},
     "output_type": "execute_result"
    }
   ],
   "source": [
    "a = np.zeros((6,6), dtype = int)\n",
    "a"
   ]
  },
  {
   "cell_type": "code",
   "execution_count": 230,
   "id": "90711dcb",
   "metadata": {},
   "outputs": [
    {
     "data": {
      "text/plain": [
       "array([[0, 1, 0, 1, 0, 1],\n",
       "       [0, 0, 0, 0, 0, 0],\n",
       "       [0, 1, 0, 1, 0, 1],\n",
       "       [0, 0, 0, 0, 0, 0],\n",
       "       [0, 1, 0, 1, 0, 1],\n",
       "       [0, 0, 0, 0, 0, 0]])"
      ]
     },
     "execution_count": 230,
     "metadata": {},
     "output_type": "execute_result"
    }
   ],
   "source": [
    "a[::2,1::2] = 1\n",
    "\n",
    "#we will have to use two transformations to achieve this\n",
    "a"
   ]
  },
  {
   "cell_type": "code",
   "execution_count": 231,
   "id": "b2e93cc8",
   "metadata": {},
   "outputs": [
    {
     "data": {
      "text/plain": [
       "array([[0, 1, 0, 1, 0, 1],\n",
       "       [1, 0, 1, 0, 1, 0],\n",
       "       [0, 1, 0, 1, 0, 1],\n",
       "       [1, 0, 1, 0, 1, 0],\n",
       "       [0, 1, 0, 1, 0, 1],\n",
       "       [1, 0, 1, 0, 1, 0]])"
      ]
     },
     "execution_count": 231,
     "metadata": {},
     "output_type": "execute_result"
    }
   ],
   "source": [
    "a[1::2,::2] = 1\n",
    "a\n"
   ]
  },
  {
   "cell_type": "markdown",
   "id": "42243baa",
   "metadata": {},
   "source": [
    "Cool thing here we do not require to go into complicated loops, \n",
    "so it is much faster method and unnessary variables are also not required\n"
   ]
  },
  {
   "cell_type": "code",
   "execution_count": 232,
   "id": "a05fda2f",
   "metadata": {},
   "outputs": [],
   "source": [
    "# Find the total number and locations of missing values in the array"
   ]
  },
  {
   "cell_type": "code",
   "execution_count": 240,
   "id": "f5c599fa",
   "metadata": {},
   "outputs": [
    {
     "data": {
      "text/plain": [
       "array([[0.40574018, 0.16448123, 0.70813177, 0.81843775, 0.61184406,\n",
       "        0.76830426, 0.43247753, 0.84312932, 0.99876996, 0.45302453],\n",
       "       [0.43854625, 0.86251577, 0.56293899, 0.70744732, 0.51635405,\n",
       "        0.62293325, 0.06302842, 0.31687357, 0.82779819, 0.08106984],\n",
       "       [0.70555631, 0.71857039, 0.31660374, 0.1622954 , 0.48100945,\n",
       "        0.54258562, 0.99578478, 0.20423439, 0.68377522, 0.57884199],\n",
       "       [0.72242249, 0.64123126, 0.15955912, 0.06605568, 0.11884962,\n",
       "        0.03506236, 0.39540127, 0.89856659, 0.7533494 , 0.93628436],\n",
       "       [0.12355068, 0.24578352, 0.29232742, 0.90131336, 0.86267286,\n",
       "        0.87750917, 0.3925469 , 0.34870732, 0.04020992, 0.24692522],\n",
       "       [0.31133413, 0.38963886, 0.5391    , 0.13283094, 0.23667255,\n",
       "        0.96818845, 0.16963144, 0.77991014, 0.82996951, 0.13116734],\n",
       "       [0.88134816, 0.9491532 , 0.26617162, 0.24542658, 0.180099  ,\n",
       "        0.41828734, 0.70540292, 0.09976085, 0.75570452, 0.36004032],\n",
       "       [0.32898747, 0.92164861, 0.47561842, 0.55416525, 0.03217746,\n",
       "        0.56424322, 0.98688309, 0.21746811, 0.93693853, 0.6264279 ],\n",
       "       [0.69989321, 0.94351796, 0.55409537, 0.98998121, 0.41220084,\n",
       "        0.3339734 , 0.85316502, 0.27674219, 0.54607988, 0.58505392],\n",
       "       [0.44556985, 0.40342843, 0.4886525 , 0.77349921, 0.77806967,\n",
       "        0.11569174, 0.50473713, 0.41883983, 0.6937192 , 0.31533902]])"
      ]
     },
     "execution_count": 240,
     "metadata": {},
     "output_type": "execute_result"
    }
   ],
   "source": [
    "z = np.random.rand(10,10)  # gives random numbers between 0 and 1\n",
    "z"
   ]
  },
  {
   "cell_type": "code",
   "execution_count": 241,
   "id": "122e4ccd",
   "metadata": {},
   "outputs": [
    {
     "data": {
      "text/plain": [
       "array([3, 7, 1, 0, 3])"
      ]
     },
     "execution_count": 241,
     "metadata": {},
     "output_type": "execute_result"
    }
   ],
   "source": [
    "np.random.randint(10, size = 5)"
   ]
  },
  {
   "cell_type": "markdown",
   "id": "a48d38ba",
   "metadata": {},
   "source": [
    "let us assign some random Nan values to some of the numbers here\n",
    "using this randomint function"
   ]
  },
  {
   "cell_type": "code",
   "execution_count": 243,
   "id": "79e7549c",
   "metadata": {},
   "outputs": [
    {
     "data": {
      "text/plain": [
       "array([[0.40574018, 0.16448123, 0.70813177, 0.81843775, 0.61184406,\n",
       "        0.76830426, 0.43247753, 0.84312932, 0.99876996, 0.45302453],\n",
       "       [0.43854625, 0.86251577, 0.56293899, 0.70744732,        nan,\n",
       "        0.62293325, 0.06302842, 0.31687357, 0.82779819, 0.08106984],\n",
       "       [0.70555631, 0.71857039, 0.31660374,        nan,        nan,\n",
       "        0.54258562, 0.99578478, 0.20423439, 0.68377522, 0.57884199],\n",
       "       [0.72242249, 0.64123126, 0.15955912, 0.06605568, 0.11884962,\n",
       "        0.03506236, 0.39540127, 0.89856659, 0.7533494 , 0.93628436],\n",
       "       [0.12355068,        nan, 0.29232742, 0.90131336, 0.86267286,\n",
       "        0.87750917, 0.3925469 , 0.34870732, 0.04020992, 0.24692522],\n",
       "       [       nan, 0.38963886, 0.5391    , 0.13283094, 0.23667255,\n",
       "        0.96818845, 0.16963144, 0.77991014, 0.82996951, 0.13116734],\n",
       "       [0.88134816, 0.9491532 , 0.26617162, 0.24542658, 0.180099  ,\n",
       "        0.41828734, 0.70540292, 0.09976085, 0.75570452, 0.36004032],\n",
       "       [0.32898747, 0.92164861, 0.47561842, 0.55416525, 0.03217746,\n",
       "        0.56424322, 0.98688309, 0.21746811, 0.93693853, 0.6264279 ],\n",
       "       [0.69989321, 0.94351796, 0.55409537, 0.98998121, 0.41220084,\n",
       "        0.3339734 , 0.85316502, 0.27674219, 0.54607988, 0.58505392],\n",
       "       [0.44556985, 0.40342843, 0.4886525 , 0.77349921, 0.77806967,\n",
       "        0.11569174, 0.50473713, 0.41883983, 0.6937192 , 0.31533902]])"
      ]
     },
     "execution_count": 243,
     "metadata": {},
     "output_type": "execute_result"
    }
   ],
   "source": [
    "z[np.random.randint(10, size = 5), np.random.randint(10, size = 5)] = np.nan\n",
    "\n",
    "# note: np.nan is used to assign nan or null values\n",
    "\n",
    "z"
   ]
  },
  {
   "cell_type": "markdown",
   "id": "25a9e72e",
   "metadata": {},
   "source": [
    "Cool now we have got 5 nan values in this array, "
   ]
  },
  {
   "cell_type": "markdown",
   "id": "dc37293a",
   "metadata": {},
   "source": [
    "to see count of nan values"
   ]
  },
  {
   "cell_type": "code",
   "execution_count": 272,
   "id": "9c130081",
   "metadata": {},
   "outputs": [
    {
     "data": {
      "text/plain": [
       "array([[False, False, False, False, False, False, False, False, False,\n",
       "        False],\n",
       "       [False, False, False, False,  True, False, False, False, False,\n",
       "        False],\n",
       "       [False, False, False,  True,  True, False, False, False, False,\n",
       "        False],\n",
       "       [False, False, False, False, False, False, False, False, False,\n",
       "        False],\n",
       "       [False,  True, False, False, False, False, False, False, False,\n",
       "        False],\n",
       "       [ True, False, False, False, False, False, False, False, False,\n",
       "        False],\n",
       "       [False, False, False, False, False, False, False, False, False,\n",
       "        False],\n",
       "       [False, False, False, False, False, False, False, False, False,\n",
       "        False],\n",
       "       [False, False, False, False, False, False, False, False, False,\n",
       "        False],\n",
       "       [False, False, False, False, False, False, False, False, False,\n",
       "        False]])"
      ]
     },
     "execution_count": 272,
     "metadata": {},
     "output_type": "execute_result"
    }
   ],
   "source": [
    "np.isnan(z)"
   ]
  },
  {
   "cell_type": "code",
   "execution_count": 274,
   "id": "be26f713",
   "metadata": {},
   "outputs": [
    {
     "data": {
      "text/plain": [
       "5"
      ]
     },
     "execution_count": 274,
     "metadata": {},
     "output_type": "execute_result"
    }
   ],
   "source": [
    "np.isnan(z).sum()"
   ]
  },
  {
   "cell_type": "markdown",
   "id": "496b3241",
   "metadata": {},
   "source": [
    "So we have total 5 null values in the array"
   ]
  },
  {
   "cell_type": "markdown",
   "id": "9e396ba4",
   "metadata": {},
   "source": [
    "And also we can get the location (index) of the items where the nan values are there"
   ]
  },
  {
   "cell_type": "code",
   "execution_count": 275,
   "id": "2f56d287",
   "metadata": {},
   "outputs": [
    {
     "data": {
      "text/plain": [
       "array([[1, 4],\n",
       "       [2, 3],\n",
       "       [2, 4],\n",
       "       [4, 1],\n",
       "       [5, 0]])"
      ]
     },
     "execution_count": 275,
     "metadata": {},
     "output_type": "execute_result"
    }
   ],
   "source": [
    "np.argwhere(np.isnan(z))"
   ]
  },
  {
   "cell_type": "code",
   "execution_count": 282,
   "id": "236f1ea2",
   "metadata": {},
   "outputs": [],
   "source": [
    " x = np.where(np.isnan(z))"
   ]
  },
  {
   "cell_type": "markdown",
   "id": "731c9842",
   "metadata": {},
   "source": [
    "So, in data science we replace 'nan' values with mean, median or mode depending upon the situation"
   ]
  },
  {
   "cell_type": "code",
   "execution_count": 283,
   "id": "1ee44df6",
   "metadata": {},
   "outputs": [
    {
     "data": {
      "text/plain": [
       "array([[0.40574018, 0.16448123, 0.70813177, 0.81843775, 0.61184406,\n",
       "        0.76830426, 0.43247753, 0.84312932, 0.99876996, 0.45302453],\n",
       "       [0.43854625, 0.86251577, 0.56293899, 0.70744732,        nan,\n",
       "        0.62293325, 0.06302842, 0.31687357, 0.82779819, 0.08106984],\n",
       "       [0.70555631, 0.71857039, 0.31660374,        nan,        nan,\n",
       "        0.54258562, 0.99578478, 0.20423439, 0.68377522, 0.57884199],\n",
       "       [0.72242249, 0.64123126, 0.15955912, 0.06605568, 0.11884962,\n",
       "        0.03506236, 0.39540127, 0.89856659, 0.7533494 , 0.93628436],\n",
       "       [0.12355068,        nan, 0.29232742, 0.90131336, 0.86267286,\n",
       "        0.87750917, 0.3925469 , 0.34870732, 0.04020992, 0.24692522],\n",
       "       [       nan, 0.38963886, 0.5391    , 0.13283094, 0.23667255,\n",
       "        0.96818845, 0.16963144, 0.77991014, 0.82996951, 0.13116734],\n",
       "       [0.88134816, 0.9491532 , 0.26617162, 0.24542658, 0.180099  ,\n",
       "        0.41828734, 0.70540292, 0.09976085, 0.75570452, 0.36004032],\n",
       "       [0.32898747, 0.92164861, 0.47561842, 0.55416525, 0.03217746,\n",
       "        0.56424322, 0.98688309, 0.21746811, 0.93693853, 0.6264279 ],\n",
       "       [0.69989321, 0.94351796, 0.55409537, 0.98998121, 0.41220084,\n",
       "        0.3339734 , 0.85316502, 0.27674219, 0.54607988, 0.58505392],\n",
       "       [0.44556985, 0.40342843, 0.4886525 , 0.77349921, 0.77806967,\n",
       "        0.11569174, 0.50473713, 0.41883983, 0.6937192 , 0.31533902]])"
      ]
     },
     "execution_count": 283,
     "metadata": {},
     "output_type": "execute_result"
    }
   ],
   "source": [
    "z"
   ]
  },
  {
   "cell_type": "code",
   "execution_count": 285,
   "id": "6ad8a572",
   "metadata": {},
   "outputs": [],
   "source": [
    "z[x] = 0"
   ]
  },
  {
   "cell_type": "code",
   "execution_count": 286,
   "id": "31e5925c",
   "metadata": {},
   "outputs": [
    {
     "data": {
      "text/plain": [
       "array([[0.40574018, 0.16448123, 0.70813177, 0.81843775, 0.61184406,\n",
       "        0.76830426, 0.43247753, 0.84312932, 0.99876996, 0.45302453],\n",
       "       [0.43854625, 0.86251577, 0.56293899, 0.70744732, 0.        ,\n",
       "        0.62293325, 0.06302842, 0.31687357, 0.82779819, 0.08106984],\n",
       "       [0.70555631, 0.71857039, 0.31660374, 0.        , 0.        ,\n",
       "        0.54258562, 0.99578478, 0.20423439, 0.68377522, 0.57884199],\n",
       "       [0.72242249, 0.64123126, 0.15955912, 0.06605568, 0.11884962,\n",
       "        0.03506236, 0.39540127, 0.89856659, 0.7533494 , 0.93628436],\n",
       "       [0.12355068, 0.        , 0.29232742, 0.90131336, 0.86267286,\n",
       "        0.87750917, 0.3925469 , 0.34870732, 0.04020992, 0.24692522],\n",
       "       [0.        , 0.38963886, 0.5391    , 0.13283094, 0.23667255,\n",
       "        0.96818845, 0.16963144, 0.77991014, 0.82996951, 0.13116734],\n",
       "       [0.88134816, 0.9491532 , 0.26617162, 0.24542658, 0.180099  ,\n",
       "        0.41828734, 0.70540292, 0.09976085, 0.75570452, 0.36004032],\n",
       "       [0.32898747, 0.92164861, 0.47561842, 0.55416525, 0.03217746,\n",
       "        0.56424322, 0.98688309, 0.21746811, 0.93693853, 0.6264279 ],\n",
       "       [0.69989321, 0.94351796, 0.55409537, 0.98998121, 0.41220084,\n",
       "        0.3339734 , 0.85316502, 0.27674219, 0.54607988, 0.58505392],\n",
       "       [0.44556985, 0.40342843, 0.4886525 , 0.77349921, 0.77806967,\n",
       "        0.11569174, 0.50473713, 0.41883983, 0.6937192 , 0.31533902]])"
      ]
     },
     "execution_count": 286,
     "metadata": {},
     "output_type": "execute_result"
    }
   ],
   "source": [
    "z"
   ]
  },
  {
   "cell_type": "code",
   "execution_count": 287,
   "id": "0ac4629d",
   "metadata": {},
   "outputs": [
    {
     "data": {
      "text/plain": [
       "0.5006130101913073"
      ]
     },
     "execution_count": 287,
     "metadata": {},
     "output_type": "execute_result"
    }
   ],
   "source": [
    "np.mean(z)"
   ]
  },
  {
   "cell_type": "code",
   "execution_count": 288,
   "id": "42b586c1",
   "metadata": {},
   "outputs": [
    {
     "data": {
      "text/plain": [
       "0.5006130101913073"
      ]
     },
     "execution_count": 288,
     "metadata": {},
     "output_type": "execute_result"
    }
   ],
   "source": [
    "np.average(z)"
   ]
  },
  {
   "cell_type": "code",
   "execution_count": 289,
   "id": "78256ae9",
   "metadata": {},
   "outputs": [
    {
     "data": {
      "text/plain": [
       "0.3007619773319808"
      ]
     },
     "execution_count": 289,
     "metadata": {},
     "output_type": "execute_result"
    }
   ],
   "source": [
    "np.std(z)"
   ]
  },
  {
   "cell_type": "code",
   "execution_count": 290,
   "id": "d140a2e7",
   "metadata": {},
   "outputs": [
    {
     "data": {
      "text/plain": [
       "0.4966948166315339"
      ]
     },
     "execution_count": 290,
     "metadata": {},
     "output_type": "execute_result"
    }
   ],
   "source": [
    "np.median(z)"
   ]
  },
  {
   "cell_type": "code",
   "execution_count": 292,
   "id": "84101f1a",
   "metadata": {},
   "outputs": [
    {
     "ename": "TypeError",
     "evalue": "remainder() takes from 2 to 3 positional arguments but 1 were given",
     "output_type": "error",
     "traceback": [
      "\u001b[0;31m---------------------------------------------------------------------------\u001b[0m",
      "\u001b[0;31mTypeError\u001b[0m                                 Traceback (most recent call last)",
      "Input \u001b[0;32mIn [292]\u001b[0m, in \u001b[0;36m<cell line: 1>\u001b[0;34m()\u001b[0m\n\u001b[0;32m----> 1\u001b[0m \u001b[43mnp\u001b[49m\u001b[38;5;241;43m.\u001b[39;49m\u001b[43mmod\u001b[49m\u001b[43m(\u001b[49m\u001b[43mz\u001b[49m\u001b[43m)\u001b[49m\n",
      "\u001b[0;31mTypeError\u001b[0m: remainder() takes from 2 to 3 positional arguments but 1 were given"
     ]
    }
   ],
   "source": [
    "np.mod(z)"
   ]
  },
  {
   "cell_type": "markdown",
   "id": "23cef9c9",
   "metadata": {},
   "source": [
    "We do not have mode function for that we can use statistics library of python"
   ]
  },
  {
   "cell_type": "code",
   "execution_count": 293,
   "id": "f8bc346c",
   "metadata": {},
   "outputs": [],
   "source": [
    "import statistics as st"
   ]
  },
  {
   "cell_type": "code",
   "execution_count": 297,
   "id": "c5a9291a",
   "metadata": {},
   "outputs": [
    {
     "data": {
      "text/plain": [
       "0.0"
      ]
     },
     "execution_count": 297,
     "metadata": {},
     "output_type": "execute_result"
    }
   ],
   "source": [
    "st.mode(z.ravel())"
   ]
  },
  {
   "cell_type": "code",
   "execution_count": null,
   "id": "c6f7654c",
   "metadata": {},
   "outputs": [],
   "source": []
  }
 ],
 "metadata": {
  "kernelspec": {
   "display_name": "Python 3 (ipykernel)",
   "language": "python",
   "name": "python3"
  },
  "language_info": {
   "codemirror_mode": {
    "name": "ipython",
    "version": 3
   },
   "file_extension": ".py",
   "mimetype": "text/x-python",
   "name": "python",
   "nbconvert_exporter": "python",
   "pygments_lexer": "ipython3",
   "version": "3.9.12"
  }
 },
 "nbformat": 4,
 "nbformat_minor": 5
}
